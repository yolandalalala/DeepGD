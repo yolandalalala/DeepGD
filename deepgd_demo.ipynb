{
 "cells": [
  {
   "cell_type": "code",
   "id": "61bcb190-671c-4e75-9469-1bd4c801c29d",
   "metadata": {
    "ExecuteTime": {
     "end_time": "2024-09-29T01:31:55.662889Z",
     "start_time": "2024-09-29T01:31:55.651455Z"
    }
   },
   "source": [
    "%load_ext autoreload\n",
    "%autoreload 2"
   ],
   "outputs": [],
   "execution_count": 1
  },
  {
   "cell_type": "code",
   "id": "4b5d7c53-d37c-4c03-9713-cd8ffaa6d0dd",
   "metadata": {
    "ExecuteTime": {
     "end_time": "2024-09-29T01:32:27.048418Z",
     "start_time": "2024-09-29T01:31:57.434208Z"
    }
   },
   "source": [
    "import pandas as pd\n",
    "import numpy as np\n",
    "import torch\n",
    "import torch_geometric as pyg\n",
    "from tqdm.auto import *\n",
    "\n",
    "from deepgd.model import Generator\n",
    "from deepgd.data import GraphDrawingData\n",
    "from deepgd.datasets import  RomeDataset\n",
    "from deepgd.metrics import Stress"
   ],
   "outputs": [],
   "execution_count": 2
  },
  {
   "cell_type": "code",
   "id": "1ecb6a05-deff-4ebc-a4be-7e3bd2ffada5",
   "metadata": {
    "ExecuteTime": {
     "end_time": "2024-09-29T01:32:28.061521Z",
     "start_time": "2024-09-29T01:32:27.996384Z"
    }
   },
   "source": [
    "device = \"cpu\"\n",
    "for backend, device_name in {\n",
    "    torch.backends.mps: \"mps\",\n",
    "    torch.cuda: \"cuda\",\n",
    "}.items():\n",
    "    if backend.is_available():\n",
    "        device = device_name"
   ],
   "outputs": [],
   "execution_count": 3
  },
  {
   "metadata": {
    "ExecuteTime": {
     "end_time": "2024-09-29T01:32:39.658122Z",
     "start_time": "2024-09-29T01:32:39.631603Z"
    }
   },
   "cell_type": "code",
   "source": [
    "batch_size = 32\n",
    "lr = 0.001\n",
    "decay = 0.998"
   ],
   "id": "31fa6e3c690c3c42",
   "outputs": [],
   "execution_count": 4
  },
  {
   "cell_type": "code",
   "id": "f5438faa-6332-46be-92c3-f80337e46009",
   "metadata": {
    "ExecuteTime": {
     "end_time": "2024-09-29T01:33:03.002065Z",
     "start_time": "2024-09-29T01:32:48.475745Z"
    }
   },
   "source": [
    "# GraphDrawingData.set_optional_fields([\"edge_pair_metaindex\", \"face\", \"rng\"])\n",
    "dataset = RomeDataset(\n",
    "    index=pd.read_csv(\"assets/rome_index.txt\", header=None)[0],\n",
    ")\n",
    "layouts = np.load(\"assets/layouts/pmds.npy\", allow_pickle=True)\n",
    "params = Generator.Params(\n",
    "    num_blocks=11,\n",
    "    block_depth=3,\n",
    "    block_width=8,\n",
    "    block_output_dim=8,\n",
    "    edge_net_depth=2,\n",
    "    edge_net_width=16,\n",
    "    edge_attr_dim=2,\n",
    "    node_attr_dim=2,\n",
    ")\n",
    "model = Generator(\n",
    "    params=params,\n",
    ").to(device)\n",
    "criteria = {\n",
    "    Stress(): 1,\n",
    "    # dgd.EdgeVar(): 0,\n",
    "    # dgd.Occlusion(): 0,\n",
    "    # dgd.IncidentAngle(): 0,\n",
    "    # dgd.TSNEScore(): 0,\n",
    "}"
   ],
   "outputs": [
    {
     "data": {
      "text/plain": [
       "Transform graphs:   0%|          | 0/11531 [00:00<?, ?it/s]"
      ],
      "application/vnd.jupyter.widget-view+json": {
       "version_major": 2,
       "version_minor": 0,
       "model_id": "922b2602fffc4696a383ed4c0840a36b"
      }
     },
     "metadata": {},
     "output_type": "display_data"
    }
   ],
   "execution_count": 5
  },
  {
   "metadata": {
    "ExecuteTime": {
     "end_time": "2024-09-29T01:33:03.030782Z",
     "start_time": "2024-09-29T01:33:03.006423Z"
    }
   },
   "cell_type": "code",
   "source": [
    "optim = torch.optim.AdamW(model.parameters(), lr=lr)\n",
    "scheduler = torch.optim.lr_scheduler.ExponentialLR(optim, gamma=decay)"
   ],
   "id": "20544c19d8ad0e27",
   "outputs": [],
   "execution_count": 6
  },
  {
   "metadata": {
    "ExecuteTime": {
     "end_time": "2024-09-29T01:33:04.925959Z",
     "start_time": "2024-09-29T01:33:03.045620Z"
    }
   },
   "cell_type": "code",
   "source": [
    "datalist = list(dataset)\n",
    "for i, data in enumerate(datalist):\n",
    "    data.pos = torch.tensor(layouts[i]).float()"
   ],
   "id": "933f88a3b2e9bc8",
   "outputs": [],
   "execution_count": 7
  },
  {
   "cell_type": "code",
   "id": "83d0207a-1e7e-4bca-95ae-433901d2fff8",
   "metadata": {
    "ExecuteTime": {
     "end_time": "2024-09-29T01:33:04.967741Z",
     "start_time": "2024-09-29T01:33:04.947308Z"
    }
   },
   "source": [
    "train_loader = pyg.loader.DataLoader(datalist[:10000], batch_size=batch_size, shuffle=True)\n",
    "val_loader = pyg.loader.DataLoader(datalist[11000:], batch_size=batch_size, shuffle=False)\n",
    "test_loader = pyg.loader.DataLoader(datalist[10000:11000], batch_size=batch_size, shuffle=False)"
   ],
   "outputs": [],
   "execution_count": 8
  },
  {
   "metadata": {
    "ExecuteTime": {
     "end_time": "2024-09-29T01:33:05.017989Z",
     "start_time": "2024-09-29T01:33:04.997543Z"
    }
   },
   "cell_type": "code",
   "source": [
    "def generate_init_pos(batch):\n",
    "    # pos = torch.rand_like(batch.pos)\n",
    "    pos = rescale_by_stress(\n",
    "        pos=batch.pos,\n",
    "        apsp=batch.apsp_attr,\n",
    "        edge_index=batch.perm_index,\n",
    "        batch_index=batch.batch,\n",
    "    )\n",
    "    return pos\n",
    "\n",
    "def get_edge_features(all_pair_shortest_path):\n",
    "    return torch.cat([\n",
    "        all_pair_shortest_path[:, None],\n",
    "        1 / all_pair_shortest_path[:, None].square()\n",
    "    ], dim=-1)\n",
    "\n",
    "def rescale_by_stress(pos, apsp, edge_index, batch_index):\n",
    "    src_pos, dst_pos = pos[edge_index[0]], pos[edge_index[1]]\n",
    "    dist = (dst_pos - src_pos).norm(dim=1)\n",
    "    u_over_d = dist / apsp\n",
    "    scatterd_u_over_d_2 = pyg.utils.scatter(u_over_d ** 2, batch_index[edge_index[0]])\n",
    "    scatterd_u_over_d = pyg.utils.scatter(u_over_d, batch_index[edge_index[0]])\n",
    "    scale = scatterd_u_over_d_2 / scatterd_u_over_d\n",
    "    return pos / scale[batch_index][:, None]"
   ],
   "id": "ee72999876d0714b",
   "outputs": [],
   "execution_count": 9
  },
  {
   "metadata": {
    "ExecuteTime": {
     "end_time": "2024-09-29T01:33:12.721324Z",
     "start_time": "2024-09-29T01:33:12.274934Z"
    }
   },
   "cell_type": "code",
   "source": [
    "# model.load_state_dict(torch.load(\"model_359.pt\", map_location=device))\n",
    "model.load_state_dict(torch.load(\"generator_493.pt\", map_location=device))"
   ],
   "id": "d659617700b8e1e6",
   "outputs": [
    {
     "data": {
      "text/plain": [
       "<All keys matched successfully>"
      ]
     },
     "execution_count": 11,
     "metadata": {},
     "output_type": "execute_result"
    }
   ],
   "execution_count": 11
  },
  {
   "cell_type": "code",
   "id": "840e2975-0553-4e47-952d-a3ae1a57928a",
   "metadata": {
    "scrolled": true,
    "tags": []
   },
   "source": [
    "for epoch in range(1000):\n",
    "    model.train()\n",
    "    losses = []\n",
    "    for batch in tqdm(train_loader):\n",
    "        batch = batch.to(device)\n",
    "        model.zero_grad()\n",
    "        loss = 0\n",
    "        for c, w in criteria.items():\n",
    "            pred = model(\n",
    "                init_pos=generate_init_pos(batch),\n",
    "                edge_index=batch.perm_index,\n",
    "                edge_attr=get_edge_features(batch.apsp_attr),\n",
    "                batch_index=batch.batch,\n",
    "            )\n",
    "            pos = rescale_by_stress(pred, batch.apsp_attr, batch.perm_index, batch.batch)\n",
    "            loss += w * c(pos, batch.perm_index, batch.apsp_attr, batch.batch)\n",
    "        loss.backward()\n",
    "        optim.step()\n",
    "        losses.append(loss.item())\n",
    "    scheduler.step()\n",
    "    print(f'[Epoch {epoch}] Train Loss: {np.mean(losses)}')\n",
    "    with torch.no_grad():\n",
    "        model.eval()\n",
    "        losses = []\n",
    "        for batch in tqdm(val_loader, disable=True):\n",
    "            batch = batch.to(device)\n",
    "            loss = 0\n",
    "            for c, w in criteria.items():\n",
    "                pred = model(\n",
    "                    init_pos=generate_init_pos(batch),\n",
    "                    edge_index=batch.perm_index,\n",
    "                    edge_attr=get_edge_features(batch.apsp_attr),\n",
    "                    batch_index=batch.batch,\n",
    "                )\n",
    "                pos = rescale_by_stress(pred, batch.apsp_attr, batch.perm_index, batch.batch)\n",
    "                loss += w * c(pos, batch.perm_index, batch.apsp_attr, batch.batch)\n",
    "            losses.append(loss.item())\n",
    "        print(f'[Epoch {epoch}] Val Loss: {np.mean(losses)}')"
   ],
   "outputs": [],
   "execution_count": null
  },
  {
   "cell_type": "code",
   "id": "2a9245be-7331-4d25-891b-5c0ca93186e4",
   "metadata": {
    "ExecuteTime": {
     "end_time": "2024-09-29T01:33:44.828242Z",
     "start_time": "2024-09-29T01:33:15.890920Z"
    }
   },
   "source": [
    "with torch.no_grad():\n",
    "    model.eval()\n",
    "    losses = []\n",
    "    for batch in tqdm(test_loader, disable=True):\n",
    "        batch = batch.to(device)\n",
    "        loss = 0\n",
    "        for c, w in criteria.items():\n",
    "            pred = model(\n",
    "                init_pos=generate_init_pos(batch),\n",
    "                edge_index=batch.perm_index,\n",
    "                edge_attr=get_edge_features(batch.apsp_attr),\n",
    "                batch_index=batch.batch,\n",
    "            )\n",
    "            pos = rescale_by_stress(pred, batch.apsp_attr, batch.perm_index, batch.batch)\n",
    "            loss += w * c(pos, batch.perm_index, batch.apsp_attr, batch.batch)\n",
    "        losses.append(loss.item())\n",
    "    print(f'Test Loss: {np.mean(losses)}')"
   ],
   "outputs": [
    {
     "name": "stdout",
     "output_type": "stream",
     "text": [
      "Test Loss: 239.72348546981812\n"
     ]
    }
   ],
   "execution_count": 12
  },
  {
   "metadata": {},
   "cell_type": "code",
   "outputs": [],
   "execution_count": null,
   "source": "",
   "id": "5df250c999ffe626"
  }
 ],
 "metadata": {
  "kernelspec": {
   "display_name": "SmartGD Demo",
   "language": "python",
   "name": "smartgd_demo"
  },
  "language_info": {
   "codemirror_mode": {
    "name": "ipython",
    "version": 3
   },
   "file_extension": ".py",
   "mimetype": "text/x-python",
   "name": "python",
   "nbconvert_exporter": "python",
   "pygments_lexer": "ipython3",
   "version": "3.10.8"
  },
  "widgets": {
   "application/vnd.jupyter.widget-state+json": {
    "state": {
     "1a6eaadc214a40b8a2fa048f934db6d0": {
      "model_module": "@jupyter-widgets/controls",
      "model_module_version": "1.5.0",
      "model_name": "HTMLModel",
      "state": {
       "layout": "IPY_MODEL_40c664d572b84ef18b87ead26e1394fd",
       "style": "IPY_MODEL_80769a69b258448ba022beb13ba6364a",
       "value": " 2/79 [03:39&lt;2:08:39, 100.26s/it]"
      }
     },
     "1d73892e8c254708ad3918446d1b971d": {
      "model_module": "@jupyter-widgets/controls",
      "model_module_version": "1.5.0",
      "model_name": "HTMLModel",
      "state": {
       "layout": "IPY_MODEL_27d2c0b03e77463ca2d1ef57e2dbb80c",
       "style": "IPY_MODEL_5a505a3ee60b4cec94a909ee77bc9e88",
       "value": "Loading graphs: 100%"
      }
     },
     "21287ad6d5e94484936bd93b6f85b49f": {
      "model_module": "@jupyter-widgets/controls",
      "model_module_version": "1.5.0",
      "model_name": "DescriptionStyleModel",
      "state": {
       "description_width": ""
      }
     },
     "24c3a3de365e4f25b0a1bea6f0fb668c": {
      "model_module": "@jupyter-widgets/controls",
      "model_module_version": "1.5.0",
      "model_name": "HTMLModel",
      "state": {
       "layout": "IPY_MODEL_7418bd6443174ebf9271fa554d755cb6",
       "style": "IPY_MODEL_89249e08e1e3471682df33d354d7719a",
       "value": " 11534/11534 [02:08&lt;00:00, 135.57it/s]"
      }
     },
     "27d2c0b03e77463ca2d1ef57e2dbb80c": {
      "model_module": "@jupyter-widgets/base",
      "model_module_version": "1.2.0",
      "model_name": "LayoutModel",
      "state": {}
     },
     "40c664d572b84ef18b87ead26e1394fd": {
      "model_module": "@jupyter-widgets/base",
      "model_module_version": "1.2.0",
      "model_name": "LayoutModel",
      "state": {}
     },
     "45147e50fc8f4baebe21cd0514d03651": {
      "model_module": "@jupyter-widgets/base",
      "model_module_version": "1.2.0",
      "model_name": "LayoutModel",
      "state": {}
     },
     "4df22612cbdf457690de3a21e160aa38": {
      "model_module": "@jupyter-widgets/base",
      "model_module_version": "1.2.0",
      "model_name": "LayoutModel",
      "state": {}
     },
     "5a505a3ee60b4cec94a909ee77bc9e88": {
      "model_module": "@jupyter-widgets/controls",
      "model_module_version": "1.5.0",
      "model_name": "DescriptionStyleModel",
      "state": {
       "description_width": ""
      }
     },
     "6e77e20f7c004d279691b884ca326aad": {
      "model_module": "@jupyter-widgets/controls",
      "model_module_version": "1.5.0",
      "model_name": "HBoxModel",
      "state": {
       "children": [
        "IPY_MODEL_8b937b880a894a71a97b31715f2a1f4c",
        "IPY_MODEL_db06b803a3a24d01b9b1c2b1e05ae83a",
        "IPY_MODEL_1a6eaadc214a40b8a2fa048f934db6d0"
       ],
       "layout": "IPY_MODEL_4df22612cbdf457690de3a21e160aa38"
      }
     },
     "73376bdf366c44bfb463627255caa47e": {
      "model_module": "@jupyter-widgets/controls",
      "model_module_version": "1.5.0",
      "model_name": "FloatProgressModel",
      "state": {
       "bar_style": "success",
       "layout": "IPY_MODEL_9e7c9d6193914fe0aaa1eebe6b6c059d",
       "max": 11534,
       "style": "IPY_MODEL_8b02a3651eb54471a990e3928f56d001",
       "value": 11534
      }
     },
     "7418bd6443174ebf9271fa554d755cb6": {
      "model_module": "@jupyter-widgets/base",
      "model_module_version": "1.2.0",
      "model_name": "LayoutModel",
      "state": {}
     },
     "80769a69b258448ba022beb13ba6364a": {
      "model_module": "@jupyter-widgets/controls",
      "model_module_version": "1.5.0",
      "model_name": "DescriptionStyleModel",
      "state": {
       "description_width": ""
      }
     },
     "89249e08e1e3471682df33d354d7719a": {
      "model_module": "@jupyter-widgets/controls",
      "model_module_version": "1.5.0",
      "model_name": "DescriptionStyleModel",
      "state": {
       "description_width": ""
      }
     },
     "8b02a3651eb54471a990e3928f56d001": {
      "model_module": "@jupyter-widgets/controls",
      "model_module_version": "1.5.0",
      "model_name": "ProgressStyleModel",
      "state": {
       "description_width": ""
      }
     },
     "8b937b880a894a71a97b31715f2a1f4c": {
      "model_module": "@jupyter-widgets/controls",
      "model_module_version": "1.5.0",
      "model_name": "HTMLModel",
      "state": {
       "layout": "IPY_MODEL_45147e50fc8f4baebe21cd0514d03651",
       "style": "IPY_MODEL_21287ad6d5e94484936bd93b6f85b49f",
       "value": "  3%"
      }
     },
     "93b07268006b4c8ea3508cc0a8708e7a": {
      "model_module": "@jupyter-widgets/base",
      "model_module_version": "1.2.0",
      "model_name": "LayoutModel",
      "state": {}
     },
     "9e7c9d6193914fe0aaa1eebe6b6c059d": {
      "model_module": "@jupyter-widgets/base",
      "model_module_version": "1.2.0",
      "model_name": "LayoutModel",
      "state": {}
     },
     "db06b803a3a24d01b9b1c2b1e05ae83a": {
      "model_module": "@jupyter-widgets/controls",
      "model_module_version": "1.5.0",
      "model_name": "FloatProgressModel",
      "state": {
       "bar_style": "danger",
       "layout": "IPY_MODEL_f4c410d18e994023b2ba1fc6ed46b5d1",
       "max": 79,
       "style": "IPY_MODEL_e659a35bdcf6428abeb1b6f9c003c325",
       "value": 2
      }
     },
     "dcc6a4b6eeac482ab4b1935722126823": {
      "model_module": "@jupyter-widgets/controls",
      "model_module_version": "1.5.0",
      "model_name": "HBoxModel",
      "state": {
       "children": [
        "IPY_MODEL_1d73892e8c254708ad3918446d1b971d",
        "IPY_MODEL_73376bdf366c44bfb463627255caa47e",
        "IPY_MODEL_24c3a3de365e4f25b0a1bea6f0fb668c"
       ],
       "layout": "IPY_MODEL_93b07268006b4c8ea3508cc0a8708e7a"
      }
     },
     "e659a35bdcf6428abeb1b6f9c003c325": {
      "model_module": "@jupyter-widgets/controls",
      "model_module_version": "1.5.0",
      "model_name": "ProgressStyleModel",
      "state": {
       "description_width": ""
      }
     },
     "f4c410d18e994023b2ba1fc6ed46b5d1": {
      "model_module": "@jupyter-widgets/base",
      "model_module_version": "1.2.0",
      "model_name": "LayoutModel",
      "state": {}
     }
    },
    "version_major": 2,
    "version_minor": 0
   }
  }
 },
 "nbformat": 4,
 "nbformat_minor": 5
}
